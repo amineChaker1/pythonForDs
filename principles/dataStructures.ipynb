{
 "cells": [
  {
   "cell_type": "markdown",
   "id": "1b2603ab-1ff1-4598-8f73-8eb7b3a20b63",
   "metadata": {},
   "source": [
    "# Data Structures with Python"
   ]
  },
  {
   "cell_type": "markdown",
   "id": "70047ff1-5546-48d4-b5db-d9ed703febf8",
   "metadata": {},
   "source": [
    "### Strings"
   ]
  },
  {
   "cell_type": "code",
   "execution_count": null,
   "id": "6665044a-3383-4968-8612-a120cf488a9e",
   "metadata": {},
   "outputs": [],
   "source": []
  }
 ],
 "metadata": {
  "kernelspec": {
   "display_name": "Python 3 (ipykernel)",
   "language": "python",
   "name": "python3"
  },
  "language_info": {
   "codemirror_mode": {
    "name": "ipython",
    "version": 3
   },
   "file_extension": ".py",
   "mimetype": "text/x-python",
   "name": "python",
   "nbconvert_exporter": "python",
   "pygments_lexer": "ipython3",
   "version": "3.11.7"
  }
 },
 "nbformat": 4,
 "nbformat_minor": 5
}
