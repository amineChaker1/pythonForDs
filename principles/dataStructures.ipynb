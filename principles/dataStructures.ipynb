{
 "cells": [
  {
   "cell_type": "markdown",
   "id": "1b2603ab-1ff1-4598-8f73-8eb7b3a20b63",
   "metadata": {},
   "source": [
    "# Data Structures with Python"
   ]
  },
  {
   "cell_type": "markdown",
   "id": "70047ff1-5546-48d4-b5db-d9ed703febf8",
   "metadata": {},
   "source": [
    "### Strings"
   ]
  },
  {
   "cell_type": "code",
   "execution_count": 3,
   "id": "6665044a-3383-4968-8612-a120cf488a9e",
   "metadata": {},
   "outputs": [
    {
     "name": "stdout",
     "output_type": "stream",
     "text": [
      "the price is right 12\n",
      "the price is right 12\n"
     ]
    }
   ],
   "source": [
    "# the multiline string helps you format the message however you like\n",
    "# the plus with string is just for concatination\n",
    "# can't concatinate a string with an integer\n",
    "# you can do it in the print function without changing the type and adding spaces\n",
    "s = \"the price\"\n",
    "v = \"is right\"\n",
    "c = 12\n",
    "all = s + \" \" + v + \" \" + str(c)\n",
    "print(all)\n",
    "#or you can do it like this\n",
    "print(s,v,c)"
   ]
  },
  {
   "cell_type": "code",
   "execution_count": 11,
   "id": "bc9ef764-315e-462b-b0a5-524e6f1605fe",
   "metadata": {},
   "outputs": [],
   "source": [
    "# INDEXING AND SLICING \n",
    "# when slicing the first parameter will be included and the second not (just like range)\n",
    "# the third parameter in slicing is considered as the jump the default step is one\n",
    "# you can slice with negative numbers it will start from the end"
   ]
  },
  {
   "cell_type": "code",
   "execution_count": 5,
   "id": "f04237b8-d913-443e-ab4d-055ba32bdca0",
   "metadata": {},
   "outputs": [
    {
     "data": {
      "text/plain": [
       "'have no '"
      ]
     },
     "execution_count": 5,
     "metadata": {},
     "output_type": "execute_result"
    }
   ],
   "source": [
    "ph = \"i have no sentence in mind \"\n",
    "ph[2:10]"
   ]
  },
  {
   "cell_type": "code",
   "execution_count": 14,
   "id": "fe9c5537-2c1e-4c2b-8f56-c869c0ae278f",
   "metadata": {},
   "outputs": [
    {
     "data": {
      "text/plain": [
       "'ihv osnec nmn '"
      ]
     },
     "execution_count": 14,
     "metadata": {},
     "output_type": "execute_result"
    }
   ],
   "source": [
    "ph[0: :2]"
   ]
  },
  {
   "cell_type": "code",
   "execution_count": 16,
   "id": "f258f60b-3772-4d6f-977e-b812f1bb989c",
   "metadata": {},
   "outputs": [
    {
     "data": {
      "text/plain": [
       "' dnim ni ecnetnes on evah i'"
      ]
     },
     "execution_count": 16,
     "metadata": {},
     "output_type": "execute_result"
    }
   ],
   "source": [
    "# to reverse a string using the jump\n",
    "ph[::-1]"
   ]
  },
  {
   "cell_type": "code",
   "execution_count": 9,
   "id": "cc8c5f7f-0a74-4736-85dc-6f8ce9b1c15b",
   "metadata": {},
   "outputs": [
    {
     "ename": "TypeError",
     "evalue": "'str' object does not support item assignment",
     "output_type": "error",
     "traceback": [
      "\u001b[1;31m---------------------------------------------------------------------------\u001b[0m",
      "\u001b[1;31mTypeError\u001b[0m                                 Traceback (most recent call last)",
      "Cell \u001b[1;32mIn[9], line 2\u001b[0m\n\u001b[0;32m      1\u001b[0m \u001b[38;5;66;03m# THE STRING IS DATA STRUCTURE THAT IS IMMUTABLE\u001b[39;00m\n\u001b[1;32m----> 2\u001b[0m ph[\u001b[38;5;241m3\u001b[39m] \u001b[38;5;241m=\u001b[39m \u001b[38;5;124m\"\u001b[39m\u001b[38;5;124mO\u001b[39m\u001b[38;5;124m\"\u001b[39m\n",
      "\u001b[1;31mTypeError\u001b[0m: 'str' object does not support item assignment"
     ]
    }
   ],
   "source": [
    "# THE STRING IS DATA STRUCTURE THAT IS IMMUTABLE\n",
    "ph[3] = \"O\""
   ]
  },
  {
   "cell_type": "code",
   "execution_count": 23,
   "id": "a5e6d908-f4dc-48b6-b8b2-49ba0eb35e6c",
   "metadata": {},
   "outputs": [
    {
     "name": "stdout",
     "output_type": "stream",
     "text": [
      "dfFFDdf dfdfdf;; dfdSDSf\n",
      " dfffddf dfdfdf;; dfdsdsf  \n",
      " DFFFDDF DFDFDF;; DFDSDSF  \n",
      " dfFFDdf dfdfdf** dfdSDSf  \n",
      "['this', 'will', 'divide']\n"
     ]
    }
   ],
   "source": [
    "# FUNCTIONS FOR STRINGS\n",
    "# strip function splits the spaces from the beginning and the end of the string\n",
    "b = \" dfFFDdf dfdfdf;; dfdSDSf  \"\n",
    "print(b.strip())\n",
    "print(b.lower())\n",
    "print(b.upper())\n",
    "# strings are immutable but you can use the function replace to change some characters\n",
    "print(b.replace(\";\" , \"*\"))\n",
    "# split to give string diffrentiated by a charachter or space in a list\n",
    "a = \"this,will,divide\"\n",
    "print(a.split(\",\"))"
   ]
  },
  {
   "cell_type": "code",
   "execution_count": 24,
   "id": "9f0d3ba2-9c87-497e-9e6b-198cb79c3f6d",
   "metadata": {},
   "outputs": [
    {
     "data": {
      "text/plain": [
       "\u001b[1;31mSignature:\u001b[0m \u001b[0ma\u001b[0m\u001b[1;33m.\u001b[0m\u001b[0mcapitalize\u001b[0m\u001b[1;33m(\u001b[0m\u001b[1;33m)\u001b[0m\u001b[1;33m\u001b[0m\u001b[1;33m\u001b[0m\u001b[0m\n",
       "\u001b[1;31mDocstring:\u001b[0m\n",
       "Return a capitalized version of the string.\n",
       "\n",
       "More specifically, make the first character have upper case and the rest lower\n",
       "case.\n",
       "\u001b[1;31mType:\u001b[0m      builtin_function_or_method"
      ]
     },
     "metadata": {},
     "output_type": "display_data"
    }
   ],
   "source": [
    "# no need to learn all the functions you can always enter the fun and use ? to learn\n",
    "a.capitalize??"
   ]
  },
  {
   "cell_type": "code",
   "execution_count": null,
   "id": "c7a76b76-d4a5-4ab4-ae2f-27bc6baefadc",
   "metadata": {},
   "outputs": [],
   "source": []
  }
 ],
 "metadata": {
  "kernelspec": {
   "display_name": "Python 3 (ipykernel)",
   "language": "python",
   "name": "python3"
  },
  "language_info": {
   "codemirror_mode": {
    "name": "ipython",
    "version": 3
   },
   "file_extension": ".py",
   "mimetype": "text/x-python",
   "name": "python",
   "nbconvert_exporter": "python",
   "pygments_lexer": "ipython3",
   "version": "3.11.7"
  }
 },
 "nbformat": 4,
 "nbformat_minor": 5
}
