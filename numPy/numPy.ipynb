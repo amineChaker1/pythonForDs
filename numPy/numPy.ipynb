{
 "cells": [
  {
   "cell_type": "markdown",
   "id": "47694dce-1263-4100-afa1-53462a18b33c",
   "metadata": {},
   "source": [
    "### Starting with Numpy"
   ]
  },
  {
   "cell_type": "code",
   "execution_count": 1,
   "id": "117f6a01-e745-4291-888d-641ca15e4a72",
   "metadata": {},
   "outputs": [],
   "source": [
    "import numpy as np"
   ]
  },
  {
   "cell_type": "code",
   "execution_count": 2,
   "id": "960a4160-843f-44c4-90ed-2b2d3e1340b1",
   "metadata": {},
   "outputs": [],
   "source": [
    "a = np.array([1,2,3,4])\n",
    "b = np.array([7,50,2])"
   ]
  },
  {
   "cell_type": "code",
   "execution_count": 3,
   "id": "cf7153c0-9768-465f-897a-fa4222531a2b",
   "metadata": {},
   "outputs": [
    {
     "name": "stdout",
     "output_type": "stream",
     "text": [
      "[1 2 3 4]\n",
      "<class 'numpy.ndarray'>\n"
     ]
    }
   ],
   "source": [
    "print(a)\n",
    "print(type(a))"
   ]
  },
  {
   "cell_type": "code",
   "execution_count": 4,
   "id": "8b7dac56-2645-4a98-bbee-c6b75eb78d44",
   "metadata": {},
   "outputs": [],
   "source": [
    " # you can define a data type in an numpy array if you dont it will be aotumatically defined based on the content "
   ]
  },
  {
   "cell_type": "code",
   "execution_count": 5,
   "id": "c52a593f-cb35-4d7d-bfa8-b19f3d4971aa",
   "metadata": {},
   "outputs": [
    {
     "data": {
      "text/plain": [
       "dtype('int32')"
      ]
     },
     "execution_count": 5,
     "metadata": {},
     "output_type": "execute_result"
    }
   ],
   "source": [
    "a.dtype"
   ]
  },
  {
   "cell_type": "code",
   "execution_count": 7,
   "id": "160b0cb0-e5c2-401d-a1c7-a6edb656114b",
   "metadata": {},
   "outputs": [
    {
     "data": {
      "text/plain": [
       "dtype('float32')"
      ]
     },
     "execution_count": 7,
     "metadata": {},
     "output_type": "execute_result"
    }
   ],
   "source": [
    "c = np.array([2,3,4] , dtype = \"f\")\n",
    "c.dtype"
   ]
  },
  {
   "cell_type": "code",
   "execution_count": 9,
   "id": "c5ace17c-86a9-4243-97a7-35c891bbc8df",
   "metadata": {},
   "outputs": [],
   "source": [
    "# DIMENSIONS\n",
    "# The total number of indexes that are nedeed to acces an element in the array is called the the dimension of the array\n",
    "# when defining a multi dimensional array you have to stay consistante with the number of elements in each array"
   ]
  },
  {
   "cell_type": "code",
   "execution_count": 11,
   "id": "96227209-6cd5-4bcf-a9bc-7a2477d7fc08",
   "metadata": {},
   "outputs": [
    {
     "data": {
      "text/plain": [
       "2"
      ]
     },
     "execution_count": 11,
     "metadata": {},
     "output_type": "execute_result"
    }
   ],
   "source": [
    "d = np.array([ [1,2] , [2,3] ])\n",
    "d.ndim"
   ]
  },
  {
   "cell_type": "code",
   "execution_count": 12,
   "id": "96a1bfd5-32b0-44b8-94c1-18848bc2d95a",
   "metadata": {},
   "outputs": [
    {
     "data": {
      "text/plain": [
       "3"
      ]
     },
     "execution_count": 12,
     "metadata": {},
     "output_type": "execute_result"
    }
   ],
   "source": [
    "d[1,1]"
   ]
  },
  {
   "cell_type": "code",
   "execution_count": 13,
   "id": "2594f357-ed0c-4823-afe9-73fb468fa366",
   "metadata": {},
   "outputs": [
    {
     "data": {
      "text/plain": [
       "3"
      ]
     },
     "execution_count": 13,
     "metadata": {},
     "output_type": "execute_result"
    }
   ],
   "source": [
    "e = np.array([[[1,2,3],[4,5,6]] , [[-1,-2,-3],[-4,-5,-6]]])\n",
    "e.ndim"
   ]
  },
  {
   "cell_type": "code",
   "execution_count": 14,
   "id": "8b981ab4-a9df-45db-a5cf-e83d95d67cec",
   "metadata": {},
   "outputs": [
    {
     "data": {
      "text/plain": [
       "-6"
      ]
     },
     "execution_count": 14,
     "metadata": {},
     "output_type": "execute_result"
    }
   ],
   "source": [
    "e[1,1,2]"
   ]
  },
  {
   "cell_type": "code",
   "execution_count": null,
   "id": "1282cab6-3aed-44ea-a807-6d797486f472",
   "metadata": {},
   "outputs": [],
   "source": []
  }
 ],
 "metadata": {
  "kernelspec": {
   "display_name": "Python 3 (ipykernel)",
   "language": "python",
   "name": "python3"
  },
  "language_info": {
   "codemirror_mode": {
    "name": "ipython",
    "version": 3
   },
   "file_extension": ".py",
   "mimetype": "text/x-python",
   "name": "python",
   "nbconvert_exporter": "python",
   "pygments_lexer": "ipython3",
   "version": "3.11.7"
  }
 },
 "nbformat": 4,
 "nbformat_minor": 5
}
